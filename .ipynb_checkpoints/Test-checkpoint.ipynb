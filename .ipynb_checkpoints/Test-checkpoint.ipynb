{
 "cells": [
  {
   "cell_type": "code",
   "execution_count": 2,
   "metadata": {
    "collapsed": false
   },
   "outputs": [
    {
     "name": "stdout",
     "output_type": "stream",
     "text": [
      "---- TF-IDF done ----\n"
     ]
    },
    {
     "ename": "NameError",
     "evalue": "name 'gp_tokens' is not defined",
     "output_type": "error",
     "traceback": [
      "\u001b[0;31m---------------------------------------------------------------------------\u001b[0m",
      "\u001b[0;31mNameError\u001b[0m                                 Traceback (most recent call last)",
      "\u001b[0;32m<ipython-input-2-0817d10e59e1>\u001b[0m in \u001b[0;36m<module>\u001b[0;34m()\u001b[0m\n\u001b[1;32m     55\u001b[0m     \u001b[0;32mfor\u001b[0m \u001b[0midents\u001b[0m \u001b[0;32min\u001b[0m \u001b[0mgp_clusters\u001b[0m\u001b[0;34m:\u001b[0m\u001b[0;34m\u001b[0m\u001b[0m\n\u001b[1;32m     56\u001b[0m         \u001b[0;32mif\u001b[0m \u001b[0meach_art\u001b[0m\u001b[0;34m.\u001b[0m\u001b[0mid\u001b[0m \u001b[0;34m==\u001b[0m \u001b[0midents\u001b[0m\u001b[0;34m[\u001b[0m\u001b[0;34m'article_id'\u001b[0m\u001b[0;34m]\u001b[0m\u001b[0;34m:\u001b[0m\u001b[0;34m\u001b[0m\u001b[0m\n\u001b[0;32m---> 57\u001b[0;31m             \u001b[0mgp_tokens\u001b[0m\u001b[0;34m.\u001b[0m\u001b[0mappend\u001b[0m\u001b[0;34m(\u001b[0m\u001b[0;34m(\u001b[0m\u001b[0meach_art\u001b[0m\u001b[0;34m.\u001b[0m\u001b[0mtokens\u001b[0m\u001b[0;34m,\u001b[0m\u001b[0midents\u001b[0m\u001b[0;34m[\u001b[0m\u001b[0;34m'cluster'\u001b[0m\u001b[0;34m]\u001b[0m\u001b[0;34m)\u001b[0m\u001b[0;34m)\u001b[0m\u001b[0;34m\u001b[0m\u001b[0m\n\u001b[0m\u001b[1;32m     58\u001b[0m \u001b[0;34m\u001b[0m\u001b[0m\n\u001b[1;32m     59\u001b[0m \u001b[0msorted_tokens\u001b[0m \u001b[0;34m=\u001b[0m \u001b[0msorted\u001b[0m\u001b[0;34m(\u001b[0m\u001b[0mgp_tokens\u001b[0m\u001b[0;34m,\u001b[0m \u001b[0mkey\u001b[0m\u001b[0;34m=\u001b[0m\u001b[0mitemgetter\u001b[0m\u001b[0;34m(\u001b[0m\u001b[0;36m1\u001b[0m\u001b[0;34m)\u001b[0m\u001b[0;34m)\u001b[0m\u001b[0;34m\u001b[0m\u001b[0m\n",
      "\u001b[0;31mNameError\u001b[0m: name 'gp_tokens' is not defined"
     ]
    }
   ],
   "source": [
    "#!/usr/bin/python\n",
    "################################################################################\n",
    "#Author: Antsa Raharimanantsoa\n",
    "#Description: Classification using clustering algorithm\n",
    "#Creation_date: March 2017\n",
    "################################################################################\n",
    "\n",
    "import nltk\n",
    "from mongoengine import *\n",
    "from document import *\n",
    "from lib import *\n",
    "from algo_clustering import *\n",
    "from sklearn.feature_extraction.text import TfidfVectorizer\n",
    "from sklearn.metrics.pairwise import cosine_similarity\n",
    "from sklearn import cluster\n",
    "from operator import itemgetter\n",
    "from itertools import groupby\n",
    "import logging\n",
    "from datetime import datetime\n",
    "import time\n",
    "\n",
    "log_name = datetime.now().strftime(\"%Y%m%d_%H%M\")\n",
    "logging.basicConfig(filename='log/clusters/' + log_name + '.log',\n",
    "                    level=logging.DEBUG,\n",
    "                    format='%(asctime)s - %(name)s - %(levelname)s - %(message)s',\n",
    "                    datefmt='%d-%m-%Y %I:%M:%S %p')\n",
    "\n",
    "stopwords = nltk.corpus.stopwords.words('french')\n",
    "stopwords += nltk.corpus.stopwords.words('english')\n",
    "\n",
    "\"\"\"Retrieve all contents for the clustering\"\"\"\n",
    "content = get_content_article()\n",
    "logging.info(\"Retrieve all articles for the classification\")\n",
    "\n",
    "\"\"\"tf-idf representation\"\"\"\n",
    "tfidf_vectorizer = TfidfVectorizer(#max_df=0.8,\n",
    "                                max_features=200000,\n",
    "                                 #min_df=0.2,\n",
    "                                 stop_words=stopwords,\n",
    "                                use_idf=True,ngram_range=(1,3)\n",
    "                                ,tokenizer=tokenize_only)\n",
    "tfidf_matrix = tfidf_vectorizer.fit_transform(content.values())\n",
    "\n",
    "print('---- TF-IDF done ----')\n",
    "logging.info(\"TF-IDF done, clustering ongoing ...\")\n",
    "\n",
    "\"\"\"Test of Kmeans (number of clusters must be detected in advance)\"\"\"\n",
    "km_clusters = kmeans(tfidf_matrix, 5)\n",
    "gp_tokens = []\n",
    "gp_clusters = [{'cluster':vlue,\n",
    "                'article_id':content.keys()[idx]} for (idx,vlue) in enumerate(km_clusters)]\n",
    "\n",
    "connect(DATABASE_NAME)\n",
    "for each_art in NewArticle.objects:\n",
    "    for idents in gp_clusters:\n",
    "        if each_art.id == idents['article_id']:\n",
    "            gp_tokens.append((each_art.tokens,idents['cluster']))\n",
    "            \n",
    "sorted_tokens = sorted(gp_tokens, key=itemgetter(1))\n",
    "sorted_tokens"
   ]
  },
  {
   "cell_type": "code",
   "execution_count": null,
   "metadata": {
    "collapsed": true
   },
   "outputs": [],
   "source": []
  }
 ],
 "metadata": {
  "kernelspec": {
   "display_name": "Python 2",
   "language": "python",
   "name": "python2"
  },
  "language_info": {
   "codemirror_mode": {
    "name": "ipython",
    "version": 2
   },
   "file_extension": ".py",
   "mimetype": "text/x-python",
   "name": "python",
   "nbconvert_exporter": "python",
   "pygments_lexer": "ipython2",
   "version": "2.7.6"
  }
 },
 "nbformat": 4,
 "nbformat_minor": 2
}
