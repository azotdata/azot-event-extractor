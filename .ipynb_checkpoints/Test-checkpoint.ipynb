{
 "cells": [
  {
   "cell_type": "code",
   "execution_count": 2,
   "metadata": {
    "collapsed": false
   },
   "outputs": [
    {
     "name": "stdout",
     "output_type": "stream",
     "text": [
      "---- TF-IDF done ----\n"
     ]
    }
   ],
   "source": [
    "#!/usr/bin/python\n",
    "################################################################################\n",
    "#Author: Antsa Raharimanantsoa\n",
    "#Description: Classification using clustering algorithm\n",
    "#Creation_date: March 2017\n",
    "################################################################################\n",
    "\n",
    "import nltk\n",
    "from mongoengine import *\n",
    "from document import *\n",
    "from lib import *\n",
    "from algo_clustering import *\n",
    "from sklearn.feature_extraction.text import TfidfVectorizer\n",
    "from sklearn.metrics.pairwise import cosine_similarity\n",
    "from sklearn import cluster\n",
    "from operator import itemgetter\n",
    "from itertools import groupby\n",
    "import logging\n",
    "from datetime import datetime\n",
    "import time\n",
    "\n",
    "log_name = datetime.now().strftime(\"%Y%m%d_%H%M\")\n",
    "logging.basicConfig(filename='log/clusters/' + log_name + '.log',\n",
    "                    level=logging.DEBUG,\n",
    "                    format='%(asctime)s - %(name)s - %(levelname)s - %(message)s',\n",
    "                    datefmt='%d-%m-%Y %I:%M:%S %p')\n",
    "\n",
    "stopwords = nltk.corpus.stopwords.words('french')\n",
    "stopwords += nltk.corpus.stopwords.words('english')\n",
    "\n",
    "\"\"\"Retrieve all contents for the clustering\"\"\"\n",
    "content = get_content_article()\n",
    "logging.info(\"Retrieve all articles for the classification\")\n",
    "\n",
    "\"\"\"tf-idf representation\"\"\"\n",
    "tfidf_vectorizer = TfidfVectorizer(max_df=0.8, max_features=200000,\n",
    "                                 min_df=0.2,stop_words=stopwords,\n",
    "                                    use_idf=True,ngram_range=(1,3)\n",
    "                                    ,tokenizer=tokenize_only)\n",
    "tfidf_matrix = tfidf_vectorizer.fit_transform(content.values())\n",
    "\n",
    "print('---- TF-IDF done ----')\n",
    "logging.info(\"TF-IDF done, clustering ongoing ...\")\n",
    "\n",
    "\"\"\"Here is the call of the method of classification, defined in algo_clustering.py \"\"\"\n",
    "dist = 1 - cosine_similarity(tfidf_matrix)\n",
    "#numbers = meanshift(tfidf_matrix)\n",
    "#numbers=[110,115,120,125,130,135]\n",
    "#kmeans(tfidf_matrix,numbers)\n",
    "hierarchical(dist)\n"
   ]
  },
  {
   "cell_type": "code",
   "execution_count": null,
   "metadata": {
    "collapsed": true
   },
   "outputs": [],
   "source": []
  }
 ],
 "metadata": {
  "kernelspec": {
   "display_name": "Python 2",
   "language": "python",
   "name": "python2"
  },
  "language_info": {
   "codemirror_mode": {
    "name": "ipython",
    "version": 2
   },
   "file_extension": ".py",
   "mimetype": "text/x-python",
   "name": "python",
   "nbconvert_exporter": "python",
   "pygments_lexer": "ipython2",
   "version": "2.7.6"
  }
 },
 "nbformat": 4,
 "nbformat_minor": 2
}
