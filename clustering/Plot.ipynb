{
 "cells": [
  {
   "cell_type": "code",
   "execution_count": 2,
   "metadata": {
    "collapsed": false
   },
   "outputs": [
    {
     "data": {
      "text/plain": [
       "MongoClient('localhost', 27017)"
      ]
     },
     "execution_count": 2,
     "metadata": {},
     "output_type": "execute_result"
    }
   ],
   "source": [
    "from __future__ import unicode_literals\n",
    "\n",
    "from mongoengine import *\n",
    "from ConfigParser import SafeConfigParser\n",
    "import matplotlib\n",
    "import matplotlib.pyplot as plt\n",
    "from processing import *\n",
    "from operator import itemgetter\n",
    "from itertools import groupby\n",
    "from sklearn import cluster\n",
    "from sklearn.metrics.pairwise import cosine_similarity\n",
    "\n",
    "# Reading Config file\n",
    "config = SafeConfigParser()\n",
    "config.read('config.ini')\n",
    "\n",
    "# Initialisation de la connexion  a la BDD\n",
    "connect(config.get('database', 'name'))"
   ]
  },
  {
   "cell_type": "code",
   "execution_count": 9,
   "metadata": {
    "collapsed": false
   },
   "outputs": [],
   "source": [
    "table = []\n",
    "for article in Article.objects:\n",
    "    table.append((article,article.num_cluster))\n",
    "\n",
    "sorted_table = sorted(table, key=itemgetter(1))\n",
    "table = groupby(sorted_table, key=itemgetter(1))\n",
    "articles = [{'cluster':k,\n",
    "                    'articles':[elms1 for (elms1,elms2) in v]} for k, v in table]\n",
    "\n",
    "event = {}\n",
    "for ind,value in enumerate(articles):\n",
    "    event[ind] = []\n",
    "    for article in articles[ind]['articles']:\n",
    "        event[ind].append(article.pub_date)\n",
    "        "
   ]
  },
  {
   "cell_type": "code",
   "execution_count": 12,
   "metadata": {
    "collapsed": false
   },
   "outputs": [
    {
     "name": "stdout",
     "output_type": "stream",
     "text": [
      "[u'2017-05-19', u'2017-05-18', u'2017-05-19', u'2017-05-24', u'2017-05-24', u'2017-05-23', u'2017-05-28', u'2017-05-26', u'2017-05-30', u'2017-05-30', u'2017-05-30']\n",
      "[u'2017-05-19', u'2017-05-19', u'2017-05-19', u'2017-05-18', u'None', u'None', u'None', u'2017-05-23', u'2017-05-23', u'0974-05-29', u'2017-05-28', u'None']\n",
      "[u'2017-05-19', u'2017-05-19', u'0974-05-23', u'2017-05-30']\n",
      "[u'0974-05-19', u'0974-05-19', u'0974-05-19', u'2017-05-19', u'2017-05-19', u'0974-05-19', u'2017-05-19', u'2017-05-19', u'2017-05-18', u'None', u'2017-05-23', u'2017-05-26', u'2017-05-22', u'2017-05-26', u'None', u'2017-05-20', u'2017-05-25', u'2017-05-30', u'2017-05-30']\n",
      "[u'2017-05-19', u'None', u'None']\n",
      "[u'2017-05-19', u'2017-05-19', u'2017-05-19', u'2017-05-16', u'2017-05-18', u'2017-05-12', u'2017-05-15', u'None', u'2017-05-22', u'2017-05-23', u'2017-05-22', u'2017-05-22', u'2017-05-22', u'2017-05-24', u'2017-05-23', u'2017-05-23', u'2017-05-23', u'2017-05-29', u'2017-05-29', u'2017-05-30']\n",
      "[u'2017-05-12', u'2017-05-13', u'2017-05-17', u'None']\n",
      "[u'2017-05-29', u'None', u'None', u'2017-05-30', u'None', u'None']\n",
      "[u'2017-05-19', u'2017-05-18', u'2017-05-06', u'2017-05-17', u'2017-04-28', u'2017-05-11', u'2017-05-19', u'2017-05-18', u'2017-05-18', u'2017-05-19', u'None', u'2017-05-22', u'2017-05-22', u'2017-05-22', u'2017-05-20', u'2017-05-23', u'2017-05-24', u'None', u'2017-05-28', u'2017-05-29', u'2017-05-28', u'2017-05-28', u'2017-05-29', u'None', u'2017-05-30', u'2017-05-30', u'2017-05-30', u'2017-05-30', u'2017-05-30']\n",
      "[u'2017-05-13', u'2017-05-19', u'2017-05-19', u'2017-05-24']\n",
      "[u'2017-05-14', u'2017-05-19', u'2017-05-21', u'2017-05-22', u'2017-05-22', u'2017-05-29', u'2017-05-29', u'2017-05-30']\n",
      "[u'0974-05-19', u'0974-05-19', u'None', u'2017-05-29', u'2017-05-29']\n",
      "[u'2017-05-18', u'2017-05-14', u'2017-05-19', u'2017-05-19', u'2017-05-19', u'2017-05-19', u'None', u'None', u'None', u'None', u'2017-05-23', u'2017-05-24', u'2017-05-24', u'2017-05-24', u'2017-05-24', u'2017-05-24', u'2017-05-24', u'None', u'None', u'2017-05-29', u'None', u'None', u'None', u'None', u'None', u'None', u'2017-05-30', u'2017-05-30', u'None']\n",
      "[u'2017-05-19', u'2017-05-24', u'2017-05-24', u'2017-05-24', u'2017-05-24']\n",
      "[u'2017-05-19', u'0974-05-19', u'0974-05-19', u'2017-05-15', u'0974-05-19', u'0974-05-19', u'2017-05-23', u'2017-05-23', u'2017-05-23', u'2017-05-23', u'2017-05-23', u'2017-05-23', u'2017-05-22', u'2017-05-23', u'2017-05-24', u'2017-05-24', u'2017-05-24', u'2017-05-24', u'2017-05-24', u'0974-05-24', u'2017-05-24', u'2017-05-24', u'2017-05-24', u'2017-05-29', u'2017-05-30', u'2017-05-30']\n",
      "[u'2017-05-15', u'2017-05-19', u'2017-05-19', u'2017-05-23', u'None', u'2017-05-22', u'None', u'2017-05-29', u'2017-05-29', u'2017-05-29']\n",
      "[u'None', u'None', u'None', u'None', u'None', u'None', u'None', u'2017-05-23', u'2017-05-23', u'2017-05-24', u'2017-05-24', u'None', u'None', u'None', u'None', u'None', u'None']\n",
      "[u'2017-05-18', u'None', u'None', u'None', u'None', u'2017-05-23', u'None', u'2017-05-28', u'None', u'2017-05-30', u'2017-05-29']\n",
      "[u'2017-05-19', u'2017-05-12', u'0353-05-19', u'2017-05-19', u'2017-05-19', u'None', u'None', u'2017-05-19', u'2017-05-20', u'2017-05-22', u'None', u'None', u'2017-05-28', u'2017-05-28', u'2017-05-30']\n",
      "[u'2017-05-19', u'2017-05-18', u'2017-05-19', u'2017-05-19', u'None', u'None', u'None']\n",
      "[u'2017-05-29', u'2017-05-30', u'2017-05-30']\n",
      "[u'2017-05-19', u'2017-05-24', u'2017-05-24', u'2017-05-29', u'2017-05-29', u'2017-05-29', u'2017-05-29', u'2017-05-24', u'2017-05-29', u'2017-05-29', u'2017-05-30', u'2017-05-30', u'2017-05-30', u'2017-05-29', u'2017-05-30', u'2017-05-30', u'2017-05-30', u'2017-05-30']\n",
      "[u'0974-05-19', u'0974-05-19', u'0974-05-19', u'2017-05-18', u'2017-05-22', u'2017-05-23', u'2017-05-23', u'2017-05-21', u'None', u'2017-05-30', u'0974-05-30', u'2017-05-30']\n",
      "[u'2017-05-18', u'2017-05-15', u'2017-05-18', u'2017-05-18', u'2017-05-23', u'2017-05-22', u'2017-05-29', u'2017-05-29', u'2017-05-29', u'2017-05-29', u'2017-05-28', u'2017-05-29', u'2017-05-30', u'2017-05-30', u'2017-05-30', u'2017-05-30', u'2017-05-30']\n",
      "[u'None', u'2017-05-23', u'2017-05-23', u'2017-05-19', u'2017-05-22', u'2017-05-29', u'2017-05-29', u'None']\n",
      "[u'2017-05-18', u'2017-05-15', u'2017-05-18', u'2017-05-09', u'2017-05-16', u'2017-05-10', u'2017-05-11', u'2017-05-19', u'2017-05-19', u'2017-05-16', u'2017-05-18', u'2017-05-17', u'0974-05-19', u'0974-05-19', u'2017-05-19', u'2017-05-19', u'2017-05-19', u'2017-05-18', u'None', u'None', u'None', u'None', u'None', u'None', u'None', u'None', u'2017-05-22', u'2017-05-22', u'2017-05-23', u'2017-05-22', u'2017-05-19', u'2017-05-23', u'2017-05-23', u'2017-05-24', u'None', u'0974-05-29', u'2017-05-25', u'2017-05-27', u'2017-05-29', u'2017-05-29', u'None', u'None', u'2017-05-29', u'2017-05-30', u'2017-05-30', u'None']\n",
      "[u'2017-05-18', u'2017-05-15', u'2017-05-18', u'2017-05-18', u'2017-05-23', u'None']\n",
      "[u'2017-05-17', u'2017-05-29', u'None', u'None']\n",
      "[u'2017-05-19', u'None', u'None', u'None']\n",
      "[u'None', u'None', u'2017-05-29', u'2017-05-29', u'None', u'None']\n",
      "[u'None', u'None', u'None', u'None', u'None', u'2017-05-23', u'2017-05-23', u'2017-05-23', u'2017-05-24', u'2017-05-24', u'2017-05-23', u'None', u'None', u'None', u'None', u'None', u'2017-05-30', u'2017-05-29']\n",
      "[u'0974-05-19', u'2017-05-23', u'None', u'None', u'2017-05-28']\n",
      "[u'2017-05-18', u'None', u'None', u'None', u'None', u'None', u'None', u'2017-05-23', u'None', u'2017-05-28', u'2017-05-28', u'2017-05-28', u'2017-05-29', u'None', u'2017-05-29', u'2017-05-29']\n",
      "[u'2017-04-20', u'2017-05-04', u'2017-04-25', u'2017-05-16', u'2017-04-19', u'2017-05-05', u'2017-04-13', u'2017-05-04']\n",
      "[u'2017-04-19', u'0974-05-19', u'2017-05-03', u'2017-05-09', u'2017-04-21', u'2017-04-14', u'2017-05-09', u'2017-05-16', u'2017-04-18', u'2017-05-10', u'2017-05-10', u'2017-05-16', u'2017-04-27', u'2017-05-17', u'0974-05-19', u'2017-05-18', u'2017-05-19', u'2012-05-19', u'0974-05-23', u'2017-05-19', u'2017-05-23', u'2017-05-22', u'2017-05-24', u'2017-05-23', u'2017-05-23', u'2017-05-23', u'2017-05-28', u'2017-05-29', u'2017-05-29']\n",
      "[u'2017-05-19', u'2017-05-19', u'2017-05-19', u'2017-05-19', u'None', u'2017-05-23', u'2017-05-23', u'2017-05-23', u'2017-05-20', u'2017-05-29', u'2017-05-24', u'2017-05-29', u'2017-05-30']\n",
      "[u'0974-05-19', u'2017-05-18', u'2017-05-19', u'None', u'None', u'None', u'None', u'2017-05-23', u'2017-05-23', u'2017-05-22', u'2017-05-23', u'2017-06-08', u'2017-05-30']\n",
      "[u'2017-05-19', u'None', u'None', u'2017-05-27', u'2017-05-28', u'2017-05-28', u'2017-05-29', u'None', u'None', u'None']\n",
      "[u'2017-05-15', u'0974-05-19', u'2017-05-17', u'None', u'None', u'None', u'2017-05-23', u'2017-05-23', u'2017-05-23', u'2017-05-23', u'2017-05-24', u'None', u'None', u'2017-05-29', u'2017-05-30']\n",
      "[u'None', u'None', u'None', u'None', u'2017-05-23', u'2017-05-23', u'2017-05-23', u'2017-05-23', u'2017-05-23', u'2017-05-23', u'2017-05-23', u'2017-05-24', u'2017-05-23', u'2017-05-23', u'2017-05-24', u'2017-05-24', u'None', u'None', u'None']\n",
      "[u'None', u'2017-05-24', u'None', u'None', u'None', u'None']\n",
      "[u'0974-05-19', u'None', u'None', u'2017-05-22', u'2017-05-22', u'2017-05-24', u'None', u'None', u'2017-05-29']\n",
      "[u'2017-05-19', u'None', u'None', u'None', u'None', u'None', u'2017-05-23', u'2017-05-24', u'0974-05-29', u'None', u'None', u'None', u'2017-05-30', u'None', u'None', u'None']\n"
     ]
    }
   ],
   "source": [
    "for cluster,date_event in event.iteritems():\n",
    "    print(date_event)"
   ]
  },
  {
   "cell_type": "markdown",
   "metadata": {},
   "source": [
    "table = []\n",
    "for article in Article.objects:\n",
    "    table.append((article,article.num_cluster))\n",
    "\n",
    "sorted_table = sorted(table, key=itemgetter(1))\n",
    "table = groupby(sorted_table, key=itemgetter(1))\n",
    "articles = [{'cluster':k,\n",
    "                    'articles':[elms1 for (elms1,elms2) in v]} for k, v in table]\n",
    "\n",
    "x = [cluster for cluster,title in enumerate(articles)]\n",
    "y = [len(articles[ind]['articles']) for ind,value in enumerate(articles)]\n",
    "\n",
    "fig = plt.figure()\n",
    "ax = fig.add_subplot(111)\n",
    "ax.plot(x, y)\n",
    "\n",
    "plt.xlabel('liste des clusters')\n",
    "plt.ylabel('nombre d\\'articles par cluster' )\n",
    "\n",
    "plt.title(\"Répartition des articles par cluster\")\n",
    "plt.show()"
   ]
  },
  {
   "cell_type": "markdown",
   "metadata": {
    "collapsed": false
   },
   "source": [
    "table = [article.num_cluster for article in Article.objects]\n",
    "N = len(table)\n",
    "x = np.random.rand(N)\n",
    "y = np.random.rand(N)\n",
    "cluster = np.array(table)\n",
    "fig = plt.figure()\n",
    "ax = fig.add_subplot(111)\n",
    "scatter = ax.scatter(x,y,c=cluster,s=20)\n",
    "ax.set_xlabel('x')\n",
    "ax.set_ylabel('y')\n",
    "plt.colorbar(scatter)\n",
    "plt.show()"
   ]
  },
  {
   "cell_type": "markdown",
   "metadata": {
    "collapsed": false
   },
   "source": [
    "def mean_shift_clusterize(articles):\n",
    "    length_clusters = {}\n",
    "    for article in articles:\n",
    "        articles_texts = []\n",
    "        for each_article in article['articles']:\n",
    "            articles_texts.append(each_article.text)\n",
    "\n",
    "        \n",
    "        vectorizer = TfidfVectorizer(max_features=200000)\n",
    "        text_matrix = vectorizer.fit_transform(articles_texts)\n",
    "        dist = 1 - cosine_similarity(text_matrix)\n",
    "        \n",
    "        #bandwidth = cluster.estimate_bandwidth(dist, quantile=0.3)\n",
    "        #mean_shift_classifier = cluster.MeanShift(bandwidth=bandwidth)\n",
    "        mean_shift_classifier = cluster.MeanShift()\n",
    "                \n",
    "        try :\n",
    "            mean_shift_classifier.fit(dist)\n",
    "        except ValueError:\n",
    "            print('Too close bandwidth')\n",
    "            length_clusters[article['cluster']] = 0\n",
    "            continue\n",
    "            \n",
    "        cluster_labels = mean_shift_classifier.labels_\n",
    "        cluster_centers = mean_shift_classifier.cluster_centers_\n",
    "        \n",
    "        #gp_clusters = [{'cluster':value,\n",
    "        #'article_id':content.keys()[idx]} for (idx,vlue) in enumerate(clusters)]\n",
    "\n",
    "        length_clusters[article['cluster']] = len(cluster_centers)\n",
    "    return length_clusters \n",
    "        "
   ]
  }
 ],
 "metadata": {
  "kernelspec": {
   "display_name": "Python 2",
   "language": "python",
   "name": "python2"
  },
  "language_info": {
   "codemirror_mode": {
    "name": "ipython",
    "version": 2
   },
   "file_extension": ".py",
   "mimetype": "text/x-python",
   "name": "python",
   "nbconvert_exporter": "python",
   "pygments_lexer": "ipython2",
   "version": "2.7.6"
  }
 },
 "nbformat": 4,
 "nbformat_minor": 2
}
