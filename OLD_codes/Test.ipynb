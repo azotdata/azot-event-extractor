{
 "cells": [
  {
   "cell_type": "code",
   "execution_count": null,
   "metadata": {
    "collapsed": false
   },
   "outputs": [],
   "source": [
    "import newspaper\n",
    "from newspaper import Source, Article\n",
    "\n",
    "src = Source(\"http://www.linfo.re\",verbose=True)\n",
    "src.clean_memo_cache()\n",
    "src.build()\n",
    "print(\"VIIIIIIIIta\")\n",
    "text=[]\n",
    "    "
   ]
  },
  {
   "cell_type": "code",
   "execution_count": null,
   "metadata": {
    "collapsed": false
   },
   "outputs": [],
   "source": [
    "text=[]\n",
    "for url in src.article_urls():\n",
    "    article=Article(url,fetch_images=False,memoize_articles=False)\n",
    "    article.download()\n",
    "    article.parse()\n",
    "    text.append(article.text)\n",
    "print(\"done\")"
   ]
  },
  {
   "cell_type": "code",
   "execution_count": null,
   "metadata": {
    "collapsed": false
   },
   "outputs": [],
   "source": [
    "import newspaper\n",
    "from newspaper import Article\n",
    "article=Article('http://www.linfo.re/la-reunion/politique/719823-thierry-robert-montre-son-casier-judiciaire-en-direct',fetch_images=False,memoize_articles=False)\n",
    "article.download()\n",
    "article.parse()\n",
    "date = article.publish_date\n",
    "print(date)"
   ]
  },
  {
   "cell_type": "code",
   "execution_count": 1,
   "metadata": {
    "collapsed": false
   },
   "outputs": [
    {
     "name": "stdout",
     "output_type": "stream",
     "text": [
      "(datetime.datetime(2017, 6, 7, 6, 25), ())\n"
     ]
    }
   ],
   "source": [
    "from dateutil.parser import parse as date_parser\n",
    "import nltk\n",
    "text = \"LINFO.RE – créé le 7.06.2017 à 06h25 – mis à jour le 7.06.2017 à 06h25- Baradi Siva\"\n",
    "tokens = [word for word in nltk.word_tokenize(text)]\n",
    "for token in tokens:\n",
    "    try:\n",
    "        datetime_obj = date_parser(token,fuzzy_with_tokens=True)\n",
    "    except ValueError:\n",
    "        continue\n",
    "\n",
    "print(datetime_obj)\n"
   ]
  },
  {
   "cell_type": "code",
   "execution_count": null,
   "metadata": {
    "collapsed": false
   },
   "outputs": [],
   "source": [
    "date = 'datetime_obj'\n",
    "type(date)"
   ]
  },
  {
   "cell_type": "code",
   "execution_count": null,
   "metadata": {
    "collapsed": false
   },
   "outputs": [],
   "source": [
    "for token in tokens:\n",
    "    if token is_"
   ]
  },
  {
   "cell_type": "code",
   "execution_count": null,
   "metadata": {
    "collapsed": false
   },
   "outputs": [],
   "source": [
    "from nltk.tag import StanfordPOSTagger\n",
    "st = StanfordPOSTagger('french.tagger')\n",
    "text_tag = st.tag(tokens)\n",
    "print(text_tag)"
   ]
  },
  {
   "cell_type": "code",
   "execution_count": null,
   "metadata": {
    "collapsed": true
   },
   "outputs": [],
   "source": []
  }
 ],
 "metadata": {
  "kernelspec": {
   "display_name": "Python 2",
   "language": "python",
   "name": "python2"
  },
  "language_info": {
   "codemirror_mode": {
    "name": "ipython",
    "version": 2
   },
   "file_extension": ".py",
   "mimetype": "text/x-python",
   "name": "python",
   "nbconvert_exporter": "python",
   "pygments_lexer": "ipython2",
   "version": "2.7.6"
  }
 },
 "nbformat": 4,
 "nbformat_minor": 2
}
