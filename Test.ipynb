{
 "cells": [
  {
   "cell_type": "code",
   "execution_count": 42,
   "metadata": {
    "collapsed": false
   },
   "outputs": [
    {
     "name": "stdout",
     "output_type": "stream",
     "text": [
      "---- TF-IDF done ----\n",
      "[ObjectId('5900807b501ec20ba80be2f9'), ObjectId('59008059501ec20ba80be2e8'), ObjectId('590080cb501ec20ba80be329'), ObjectId('590080be501ec20ba80be321'), ObjectId('59008130501ec20ba80be34b'), ObjectId('59007fe8501ec20b4dea4647'), ObjectId('590080b0501ec20ba80be315'), ObjectId('590080f1501ec20ba80be339'), ObjectId('590080a0501ec20ba80be30d'), ObjectId('59008109501ec20ba80be33d'), ObjectId('590080d9501ec20ba80be32d'), ObjectId('590080e4501ec20ba80be331'), ObjectId('5900809e501ec20ba80be30b'), ObjectId('5900806c501ec20ba80be2ef'), ObjectId('59007fe5501ec20b4dea4645'), ObjectId('59007f89501ec20b4dea4615'), ObjectId('59007f87501ec20b4dea4613'), ObjectId('59007f98501ec20b4dea461d'), ObjectId('59008122501ec20ba80be345'), ObjectId('59007fb8501ec20b4dea462d'), ObjectId('59007f9a501ec20b4dea461f'), ObjectId('59008085501ec20ba80be2fe'), ObjectId('5900808d501ec20ba80be304'), ObjectId('59007f84501ec20b4dea4611'), ObjectId('590080bc501ec20ba80be31f'), ObjectId('59007f82501ec20b4dea460f'), ObjectId('59007f63501ec20b4dea45fd'), ObjectId('590080b7501ec20ba80be319'), ObjectId('59007f9c501ec20b4dea4621'), ObjectId('59007f7f501ec20b4dea460d'), ObjectId('5900813c501ec20ba80be34f'), ObjectId('590080e1501ec20ba80be32f'), ObjectId('59007fda501ec20b4dea463f'), ObjectId('59007f6e501ec20b4dea4603'), ObjectId('59007fc5501ec20b4dea4633'), ObjectId('59008142501ec20ba80be351'), ObjectId('59007fab501ec20b4dea4629'), ObjectId('59007fe1501ec20b4dea4643'), ObjectId('5900805f501ec20ba80be2eb'), ObjectId('5900811b501ec20ba80be343'), ObjectId('590080bb501ec20ba80be31d'), ObjectId('5900812d501ec20ba80be349'), ObjectId('59007fdd501ec20b4dea4641')]\n",
      "********************************\n"
     ]
    }
   ],
   "source": [
    "#!/usr/bin/python\n",
    "################################################################################\n",
    "#Author: Antsa Raharimanantsoa\n",
    "#Description: Classification using clustering algorithm\n",
    "#Creation_date: March 2017\n",
    "################################################################################\n",
    "\n",
    "import nltk\n",
    "from mongoengine import *\n",
    "from document import *\n",
    "from lib import *\n",
    "from algo_clustering import *\n",
    "from sklearn.feature_extraction.text import TfidfVectorizer\n",
    "from sklearn.metrics.pairwise import cosine_similarity\n",
    "from sklearn import cluster\n",
    "from operator import itemgetter\n",
    "from itertools import groupby\n",
    "import logging\n",
    "from datetime import datetime\n",
    "import time\n",
    "\n",
    "log_name = datetime.now().strftime(\"%Y%m%d_%H%M\")\n",
    "logging.basicConfig(filename='log/clusters/' + log_name + '.log',\n",
    "                    level=logging.DEBUG,\n",
    "                    format='%(asctime)s - %(name)s - %(levelname)s - %(message)s',\n",
    "                    datefmt='%d-%m-%Y %I:%M:%S %p')\n",
    "\n",
    "stopwords = nltk.corpus.stopwords.words('french')\n",
    "stopwords += nltk.corpus.stopwords.words('english')\n",
    "\n",
    "\"\"\"Retrieve all contents for the clustering\"\"\"\n",
    "content = get_content_article()\n",
    "logging.info(\"Retrieve all articles for the classification\")\n",
    "\n",
    "\"\"\"tf-idf representation\"\"\"\n",
    "tfidf_vectorizer = TfidfVectorizer(#max_df=0.8,\n",
    "                                max_features=200000,\n",
    "                                 #min_df=0.2,\n",
    "                                 stop_words=stopwords,\n",
    "                                use_idf=True,ngram_range=(1,3)\n",
    "                                ,tokenizer=tokenize_only)\n",
    "tfidf_matrix = tfidf_vectorizer.fit_transform(content.values())\n",
    "\n",
    "print('---- TF-IDF done ----')\n",
    "logging.info(\"TF-IDF done, clustering ongoing ...\")\n",
    "\n",
    "\"\"\"Test of Kmeans (number of clusters must be detected in advance)\"\"\"\n",
    "km_clusters = kmeans(tfidf_matrix, 5)\n",
    "gp_tokens = []\n",
    "gp_clusters = [(content.keys()[idx],\n",
    "                vlue) for (idx,vlue) in enumerate(km_clusters)]\n",
    "sorted_cl = sorted(gp_clusters, key=itemgetter(1))\n",
    "gather_cl = groupby(sorted_cl, key=itemgetter(1))\n",
    "gp_kmeans = [{'id':k,\n",
    "            'kmeans_cl':[elms1 for (elms1,elms2) in v]} for k, v in gather_cl]\n",
    "\n",
    "connect(DATABASE_NAME)\n",
    "for elms in gp_kmeans:\n",
    "    texts = []\n",
    "    for valeur in elms['kmeans_cl']:\n",
    "        texts += dict((valeur,elem.tokens) for elem in NewArticle.objects)\n",
    "print(texts)\n",
    "print(\"********************************\")"
   ]
  },
  {
   "cell_type": "code",
   "execution_count": null,
   "metadata": {
    "collapsed": true
   },
   "outputs": [],
   "source": []
  }
 ],
 "metadata": {
  "kernelspec": {
   "display_name": "Python 2",
   "language": "python",
   "name": "python2"
  },
  "language_info": {
   "codemirror_mode": {
    "name": "ipython",
    "version": 2
   },
   "file_extension": ".py",
   "mimetype": "text/x-python",
   "name": "python",
   "nbconvert_exporter": "python",
   "pygments_lexer": "ipython2",
   "version": "2.7.6"
  }
 },
 "nbformat": 4,
 "nbformat_minor": 2
}
