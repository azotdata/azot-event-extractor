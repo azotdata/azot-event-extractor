{
 "cells": [
  {
   "cell_type": "code",
   "execution_count": 8,
   "metadata": {
    "collapsed": false
   },
   "outputs": [
    {
     "name": "stdout",
     "output_type": "stream",
     "text": [
      "Successfully connected to Database!\n",
      "ErrorDownload object\n",
      "ErrorDownload object\n",
      "ErrorDownload object\n",
      "ErrorDownload object\n",
      "ErrorDownload object\n",
      "ErrorDownload object\n"
     ]
    }
   ],
   "source": [
    "from newspaper import Article\n",
    "from lib import *\n",
    "from document import ErrorDownload\n",
    "\n",
    "tab = get_err_urls(DATABASE_NAME)\n",
    "for elms in ErrorDownload.objects:\n",
    "    print(elms)\n",
    "    if tab[0] in elms:\n",
    "        print(tab[0])"
   ]
  },
  {
   "cell_type": "code",
   "execution_count": null,
   "metadata": {
    "collapsed": true
   },
   "outputs": [],
   "source": []
  }
 ],
 "metadata": {
  "kernelspec": {
   "display_name": "Python 2",
   "language": "python",
   "name": "python2"
  },
  "language_info": {
   "codemirror_mode": {
    "name": "ipython",
    "version": 2
   },
   "file_extension": ".py",
   "mimetype": "text/x-python",
   "name": "python",
   "nbconvert_exporter": "python",
   "pygments_lexer": "ipython2",
   "version": "2.7.6"
  }
 },
 "nbformat": 4,
 "nbformat_minor": 2
}
